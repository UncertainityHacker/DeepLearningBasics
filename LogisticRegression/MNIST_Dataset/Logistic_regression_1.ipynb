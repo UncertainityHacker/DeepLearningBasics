{
  "nbformat": 4,
  "nbformat_minor": 0,
  "metadata": {
    "accelerator": "GPU",
    "colab": {
      "name": "Logistic_regression_1.ipynb",
      "provenance": [],
      "collapsed_sections": []
    },
    "kernelspec": {
      "display_name": "Python 3",
      "name": "python3"
    }
  },
  "cells": [
    {
      "cell_type": "markdown",
      "metadata": {
        "id": "k6gzj1oWL_mq"
      },
      "source": [
        "#Important Libraries to be included\r\n",
        "\r\n"
      ]
    },
    {
      "cell_type": "code",
      "metadata": {
        "id": "NI4dAuiHKG7S"
      },
      "source": [
        "import torch\r\n",
        "import torchvision\r\n",
        "import torch.nn as nn\r\n",
        "import torch.nn.functional as F\r\n",
        "import torchvision.transforms as transforms\r\n",
        "from torch.utils.data import DataLoader\r\n",
        "from torchvision.datasets import MNIST\r\n",
        "from torch.utils.data import random_split\r\n",
        "import matplotlib.pyplot as plt\r\n",
        "%matplotlib inline"
      ],
      "execution_count": null,
      "outputs": []
    },
    {
      "cell_type": "markdown",
      "metadata": {
        "id": "DUE_0Jx203Kw"
      },
      "source": [
        "# Dataset Preparation"
      ]
    },
    {
      "cell_type": "code",
      "metadata": {
        "id": "Ibue1Pl50-53"
      },
      "source": [
        "# Download training dataset\r\n",
        "dataset = MNIST(root='data/', download=True)\r\n",
        "test_dataset = MNIST(root='data/', train=False)\r\n",
        "\r\n",
        "# MNIST dataset (images and labels) transform to Tensor\r\n",
        "dataset = MNIST(root='data/', train=True, transform=transforms.ToTensor())\r\n",
        "\r\n",
        "#Split dataset into training and validation\r\n",
        "train_ds, val_ds = random_split(dataset, [50000, 10000])\r\n",
        "\r\n",
        "#Load data in batches\r\n",
        "batch_size = 128\r\n",
        "\r\n",
        "train_loader = DataLoader(train_ds, batch_size, shuffle=True)\r\n",
        "val_loader = DataLoader(val_ds, batch_size)\r\n"
      ],
      "execution_count": null,
      "outputs": []
    },
    {
      "cell_type": "markdown",
      "metadata": {
        "id": "LZqrFU082lyk"
      },
      "source": [
        "# Model"
      ]
    },
    {
      "cell_type": "code",
      "metadata": {
        "id": "iGXXzNe72puz"
      },
      "source": [
        "input_size = 28*28          # no of inputs\r\n",
        "num_classes = 10            # no of outputs\r\n",
        "\r\n",
        "#Linear Regression model\r\n",
        "model = nn.Linear(input_size, num_classes)\r\n",
        "\r\n",
        "#Building Own Custom model\r\n",
        "class MnistModel(nn.Module):\r\n",
        "  def __init__(self):\r\n",
        "    super().__init__()\r\n",
        "    self.linear = nn.Linear(input_size,num_classes)\r\n",
        "\r\n",
        "  def forward(self,xb):\r\n",
        "    xb = xb.reshape(-1,784)\r\n",
        "    out = self.linear(xb)\r\n",
        "    return out\r\n",
        "\r\n",
        "  def training_step(self, batch):\r\n",
        "        images, labels = batch \r\n",
        "        out = self(images)                  # Generate predictions\r\n",
        "        loss = F.cross_entropy(out, labels) # Calculate loss\r\n",
        "        return loss\r\n",
        "    \r\n",
        "  def validation_step(self, batch):\r\n",
        "      images, labels = batch \r\n",
        "      out = self(images)                    # Generate predictions\r\n",
        "      loss = F.cross_entropy(out, labels)   # Calculate loss\r\n",
        "      acc = accuracy(out, labels)           # Calculate accuracy\r\n",
        "      return {'val_loss': loss, 'val_acc': acc}\r\n",
        "      \r\n",
        "  def validation_epoch_end(self, outputs):\r\n",
        "      batch_losses = [x['val_loss'] for x in outputs]\r\n",
        "      epoch_loss = torch.stack(batch_losses).mean()   # Combine losses\r\n",
        "      batch_accs = [x['val_acc'] for x in outputs]\r\n",
        "      epoch_acc = torch.stack(batch_accs).mean()      # Combine accuracies\r\n",
        "      return {'val_loss': epoch_loss.item(), 'val_acc': epoch_acc.item()}\r\n",
        "  \r\n",
        "  def epoch_end(self, epoch, result):\r\n",
        "      print(\"Epoch [{}], val_loss: {:.4f}, val_acc: {:.4f}\".format(epoch, result['val_loss'], result['val_acc']))\r\n",
        "\r\n",
        "model = MnistModel()"
      ],
      "execution_count": null,
      "outputs": []
    },
    {
      "cell_type": "markdown",
      "metadata": {
        "id": "23xU5sjHJVDM"
      },
      "source": [
        "#Accuracy"
      ]
    },
    {
      "cell_type": "code",
      "metadata": {
        "id": "2PwLKroqJXI_"
      },
      "source": [
        "def accuracy(outputs, labels):\r\n",
        "    _, preds = torch.max(outputs, dim=1)\r\n",
        "    return torch.tensor(torch.sum(preds == labels).item() / len(preds))"
      ],
      "execution_count": null,
      "outputs": []
    },
    {
      "cell_type": "markdown",
      "metadata": {
        "id": "2-YO_sRLJyUP"
      },
      "source": [
        "#Training\r\n"
      ]
    },
    {
      "cell_type": "code",
      "metadata": {
        "id": "HRK0PiEjJ0Kd"
      },
      "source": [
        "def fit(epochs, lr, model, train_loader, val_loader, opt_func=torch.optim.SGD):\r\n",
        "    optimizer = opt_func(model.parameters(), lr)\r\n",
        "    history = [] # for recording epoch-wise results\r\n",
        "    \r\n",
        "    for epoch in range(epochs):\r\n",
        "        \r\n",
        "        # Training Phase \r\n",
        "        for batch in train_loader:\r\n",
        "            loss = model.training_step(batch)\r\n",
        "            loss.backward()\r\n",
        "            optimizer.step()\r\n",
        "            optimizer.zero_grad()\r\n",
        "        \r\n",
        "        # Validation phase\r\n",
        "        result = evaluate(model, val_loader)\r\n",
        "        model.epoch_end(epoch, result)\r\n",
        "        history.append(result)\r\n",
        "\r\n",
        "    return history\r\n",
        "\r\n",
        "\r\n",
        "def evaluate(model, val_loader):\r\n",
        "    outputs = [model.validation_step(batch) for batch in val_loader]\r\n",
        "    return model.validation_epoch_end(outputs)\r\n",
        "\r\n",
        "\r\n"
      ],
      "execution_count": null,
      "outputs": []
    },
    {
      "cell_type": "code",
      "metadata": {
        "colab": {
          "base_uri": "https://localhost:8080/"
        },
        "id": "7bbsUGs5K9bH",
        "outputId": "52a6b2c4-66e9-43a8-a2c9-e1503aa461d2"
      },
      "source": [
        "history = fit(20, 0.001, model, train_loader, val_loader)"
      ],
      "execution_count": null,
      "outputs": [
        {
          "output_type": "stream",
          "text": [
            "Epoch [0], val_loss: 1.9432, val_acc: 0.6171\n",
            "Epoch [1], val_loss: 1.6743, val_acc: 0.7421\n",
            "Epoch [2], val_loss: 1.4730, val_acc: 0.7785\n",
            "Epoch [3], val_loss: 1.3209, val_acc: 0.7949\n",
            "Epoch [4], val_loss: 1.2037, val_acc: 0.8066\n",
            "Epoch [5], val_loss: 1.1117, val_acc: 0.8157\n",
            "Epoch [6], val_loss: 1.0378, val_acc: 0.8200\n",
            "Epoch [7], val_loss: 0.9773, val_acc: 0.8265\n",
            "Epoch [8], val_loss: 0.9270, val_acc: 0.8299\n",
            "Epoch [9], val_loss: 0.8844, val_acc: 0.8323\n",
            "Epoch [10], val_loss: 0.8479, val_acc: 0.8357\n",
            "Epoch [11], val_loss: 0.8163, val_acc: 0.8399\n",
            "Epoch [12], val_loss: 0.7887, val_acc: 0.8437\n",
            "Epoch [13], val_loss: 0.7642, val_acc: 0.8455\n",
            "Epoch [14], val_loss: 0.7424, val_acc: 0.8472\n",
            "Epoch [15], val_loss: 0.7229, val_acc: 0.8495\n",
            "Epoch [16], val_loss: 0.7052, val_acc: 0.8503\n",
            "Epoch [17], val_loss: 0.6892, val_acc: 0.8511\n",
            "Epoch [18], val_loss: 0.6746, val_acc: 0.8528\n",
            "Epoch [19], val_loss: 0.6612, val_acc: 0.8546\n"
          ],
          "name": "stdout"
        }
      ]
    },
    {
      "cell_type": "code",
      "metadata": {
        "colab": {
          "base_uri": "https://localhost:8080/",
          "height": 295
        },
        "id": "gV_tbFlvPOqE",
        "outputId": "4f0dac3a-a9b5-46e3-e935-34bcd9703dac"
      },
      "source": [
        "accuracies = [result['val_acc'] for result in history]\r\n",
        "plt.plot(accuracies, '-x')\r\n",
        "plt.xlabel('epoch')\r\n",
        "plt.ylabel('accuracy')\r\n",
        "plt.title('Accuracy vs. No. of epochs');"
      ],
      "execution_count": null,
      "outputs": [
        {
          "output_type": "display_data",
          "data": {
            "image/png": "[encoded data removed]",
            "text/plain": [
              "<Figure size 432x288 with 1 Axes>"
            ]
          },
          "metadata": {
            "tags": [],
            "needs_background": "light"
          }
        }
      ]
    },
    {
      "cell_type": "markdown",
      "metadata": {
        "id": "d2E660iSdj9C"
      },
      "source": [
        "# Prediction with individual images"
      ]
    },
    {
      "cell_type": "code",
      "metadata": {
        "colab": {
          "base_uri": "https://localhost:8080/",
          "height": 298
        },
        "id": "dADgRNPwTweH",
        "outputId": "4207cc0b-bc0b-43d8-db94-44b127558e4a"
      },
      "source": [
        "test_dataset = MNIST(root='data/', \r\n",
        "                     train=False,\r\n",
        "                     transform=transforms.ToTensor())\r\n",
        "\r\n",
        "img, label = test_dataset[5]\r\n",
        "plt.imshow(img[0], cmap='gray')\r\n",
        "print('Shape:', img.shape)\r\n",
        "print('Label:', label)"
      ],
      "execution_count": null,
      "outputs": [
        {
          "output_type": "stream",
          "text": [
            "Shape: torch.Size([1, 28, 28])\n",
            "Label: 1\n"
          ],
          "name": "stdout"
        },
        {
          "output_type": "display_data",
          "data": {
            "image/png": "[encoded data removed]",
            "text/plain": [
              "<Figure size 432x288 with 1 Axes>"
            ]
          },
          "metadata": {
            "tags": [],
            "needs_background": "light"
          }
        }
      ]
    },
    {
      "cell_type": "code",
      "metadata": {
        "id": "1D_D7fnbTxEm"
      },
      "source": [
        "def predict_image(img, model):\r\n",
        "    xb = img.unsqueeze(0)\r\n",
        "    yb = model(xb)\r\n",
        "    _, preds = torch.max(yb, dim=1)\r\n",
        "    return preds[0].item()\r\n"
      ],
      "execution_count": null,
      "outputs": []
    },
    {
      "cell_type": "code",
      "metadata": {
        "colab": {
          "base_uri": "https://localhost:8080/",
          "height": 282
        },
        "id": "M_Iy83CfUdQS",
        "outputId": "e60e8946-e8e1-46af-8ee0-24e94bbed361"
      },
      "source": [
        "img, label = test_dataset[95]\r\n",
        "plt.imshow(img[0], cmap='gray')\r\n",
        "print('Label :',label,', Prediction : ',predict_image(img, model))"
      ],
      "execution_count": null,
      "outputs": [
        {
          "output_type": "stream",
          "text": [
            "Label : 4 , Prediction :  4\n"
          ],
          "name": "stdout"
        },
        {
          "output_type": "display_data",
          "data": {
            "image/png": "[encoded data removed]",
            "text/plain": [
              "<Figure size 432x288 with 1 Axes>"
            ]
          },
          "metadata": {
            "tags": [],
            "needs_background": "light"
          }
        }
      ]
    }
  ]
}