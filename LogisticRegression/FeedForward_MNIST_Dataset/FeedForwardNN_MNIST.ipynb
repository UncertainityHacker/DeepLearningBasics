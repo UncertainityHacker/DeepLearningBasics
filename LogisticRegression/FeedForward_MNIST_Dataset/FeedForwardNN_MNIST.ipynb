{
  "nbformat": 4,
  "nbformat_minor": 0,
  "metadata": {
    "colab": {
      "name": "FeedForwardNN_MNIST.ipynb",
      "provenance": [],
      "collapsed_sections": []
    },
    "kernelspec": {
      "name": "python3",
      "display_name": "Python 3"
    }
  },
  "cells": [
    {
      "cell_type": "markdown",
      "metadata": {
        "id": "2s08jyBpklls"
      },
      "source": [
        "#Libraries to import"
      ]
    },
    {
      "cell_type": "code",
      "metadata": {
        "id": "TcFVA7DYkdcf"
      },
      "source": [
        "import torch\r\n",
        "import torchvision\r\n",
        "import numpy as np\r\n",
        "import matplotlib\r\n",
        "import matplotlib.pyplot as plt\r\n",
        "import torch.nn as nn\r\n",
        "import torch.nn.functional as F\r\n",
        "from torchvision.datasets import MNIST\r\n",
        "from torchvision.transforms import ToTensor\r\n",
        "from torchvision.utils import make_grid\r\n",
        "from torch.utils.data.dataloader import DataLoader\r\n",
        "from torch.utils.data import random_split\r\n",
        "%matplotlib inline\r\n",
        "\r\n",
        "# Use a white background for matplotlib figures\r\n",
        "matplotlib.rcParams['figure.facecolor'] = '#ffffff'"
      ],
      "execution_count": 39,
      "outputs": []
    },
    {
      "cell_type": "markdown",
      "metadata": {
        "id": "kVprvYNvk3Uj"
      },
      "source": [
        "#Preparing Dataset"
      ]
    },
    {
      "cell_type": "code",
      "metadata": {
        "id": "HX5Rdun5k7HZ"
      },
      "source": [
        "dataset = MNIST(root='data/', download=True, transform=ToTensor())\r\n",
        "\r\n",
        "#set aside Validation data from training data\r\n",
        "val_size = 10000\r\n",
        "train_size = len(dataset) - val_size\r\n",
        "\r\n",
        "train_ds, val_ds = random_split(dataset, [train_size, val_size])\r\n",
        "\r\n",
        "batch_size = 128\r\n",
        "\r\n",
        "train_loader = DataLoader(train_ds, batch_size, shuffle=True, num_workers=4, pin_memory=True)\r\n",
        "val_loader = DataLoader(val_ds, batch_size*2, num_workers=4, pin_memory=True)\r\n",
        "\r\n",
        "#reshape the input images\r\n",
        "for images, labels in train_loader:\r\n",
        "    inputs = images.reshape(-1, 784)\r\n",
        "    break\r\n",
        "\r\n"
      ],
      "execution_count": 40,
      "outputs": []
    },
    {
      "cell_type": "markdown",
      "metadata": {
        "id": "aEuZWkgFrdWB"
      },
      "source": [
        "#Layers\r\n",
        "Without Pytorch"
      ]
    },
    {
      "cell_type": "code",
      "metadata": {
        "colab": {
          "base_uri": "https://localhost:8080/"
        },
        "id": "GiJ-47z2rfrI",
        "outputId": "19f03ce0-9b60-4e2f-b146-bab87ce39672"
      },
      "source": [
        "input_size = inputs.shape[-1]\r\n",
        "hidden_size = 32\r\n",
        "\r\n",
        "layer1 = nn.Linear(input_size,hidden_size)\r\n",
        "layer1_outputs = layer1(inputs)\r\n",
        "relu_outputs = F.relu(layer1_outputs)\r\n",
        "\r\n",
        "output_size = 10\r\n",
        "layer2 = nn.Linear(hidden_size, output_size)\r\n",
        "layer2_outputs = layer2(relu_outputs)\r\n",
        "\r\n",
        "F.cross_entropy(layer2_outputs, labels)"
      ],
      "execution_count": 41,
      "outputs": [
        {
          "output_type": "execute_result",
          "data": {
            "text/plain": [
              "tensor(2.3183, grad_fn=<NllLossBackward>)"
            ]
          },
          "metadata": {
            "tags": []
          },
          "execution_count": 41
        }
      ]
    },
    {
      "cell_type": "markdown",
      "metadata": {
        "id": "53It_Rkgs5-Z"
      },
      "source": [
        "#Model"
      ]
    },
    {
      "cell_type": "code",
      "metadata": {
        "id": "H9tgHChqr9-H"
      },
      "source": [
        "class MnistModel(nn.Module):\r\n",
        "  def __init__(self, input_size, hidden_size, out_size):\r\n",
        "    super().__init__()\r\n",
        "    self.linear1 = nn.Linear(input_size, hidden_size)\r\n",
        "    self.linear2 = nn.Linear(hidden_size, out_size)\r\n",
        "\r\n",
        "  def forward(self,xb):\r\n",
        "    xb = xb.view(xb.size(0),-1)\r\n",
        "    out = self.linear1(xb)\r\n",
        "    out = F.relu(out)\r\n",
        "    out = self.linear2(out)\r\n",
        "    return out\r\n",
        "\r\n",
        "  def training_step(self, batch):\r\n",
        "    images, labels = batch\r\n",
        "    out = self(images)\r\n",
        "    loss = F.cross_entropy(out, labels)\r\n",
        "    return loss\r\n",
        "\r\n",
        "  def val_step(self, batch):\r\n",
        "    images, labels = batch\r\n",
        "    out = self(images)\r\n",
        "    loss = F.cross_entropy(out, labels)\r\n",
        "    acc = accuracy(out,labels)\r\n",
        "    return {'val_loss': loss, 'val_acc': acc}\r\n",
        "\r\n",
        "  def val_epoch_end(self, outputs):\r\n",
        "    batch_losses = [x['val_loss'] for x in outputs]\r\n",
        "    epoch_loss = torch.stack(batch_losses).mean()   # Combine losses\r\n",
        "    batch_accs = [x['val_acc'] for x in outputs]\r\n",
        "    epoch_acc = torch.stack(batch_accs).mean()      # Combine accuracies\r\n",
        "    return {'val_loss': epoch_loss.item(), 'val_acc': epoch_acc.item()}\r\n",
        "\r\n",
        "  def epoch_end(self, epoch, result):\r\n",
        "    print(\"Epoch [{}], val_loss: {:.4f}, val_acc: {:.4f}\".format(epoch, result['val_loss'], result['val_acc']))\r\n",
        "\r\n",
        "\r\n",
        "def accuracy(outputs,labels):\r\n",
        "  _,predicts = torch.max(outputs,dim=1)\r\n",
        "  return torch.tensor(torch.sum(predicts == labels).item()/len(predicts))\r\n",
        "\r\n",
        "input_size = 784\r\n",
        "hidden_size = 32 # you can change this\r\n",
        "num_classes = 10\r\n",
        "\r\n",
        "model = MnistModel(input_size, hidden_size=32, out_size=num_classes)\r\n",
        "\r\n",
        "    "
      ],
      "execution_count": 46,
      "outputs": []
    },
    {
      "cell_type": "markdown",
      "metadata": {
        "id": "Ba2xrpWE0Yhb"
      },
      "source": [
        "#GPU"
      ]
    },
    {
      "cell_type": "code",
      "metadata": {
        "colab": {
          "base_uri": "https://localhost:8080/"
        },
        "id": "a3mMZSBw0doL",
        "outputId": "969c15ee-9ce2-40f3-9577-f9fde41ef570"
      },
      "source": [
        "def get_default_device():\r\n",
        "  if torch.cuda.is_available():\r\n",
        "    return torch.device('cuda')\r\n",
        "  else :\r\n",
        "    return torch.device('cpu')\r\n",
        "\r\n",
        "#Move data to GPU\r\n",
        "def to_device(data, device):\r\n",
        "    \"\"\"Move tensor(s) to chosen device\"\"\"\r\n",
        "    if isinstance(data, (list,tuple)):\r\n",
        "        return [to_device(x, device) for x in data]\r\n",
        "    return data.to(device, non_blocking=True)\r\n",
        "\r\n",
        "device = get_default_device();\r\n",
        "\r\n",
        "for images, labels in train_loader:\r\n",
        "    print(images.shape)\r\n",
        "    images = to_device(images, device)\r\n",
        "    print(images.device)\r\n",
        "    break\r\n",
        "\r\n",
        "class DeviceDataLoader():\r\n",
        "    \"\"\"Wrap a dataloader to move data to a device\"\"\"\r\n",
        "    def __init__(self, dl, device):\r\n",
        "        self.dl = dl\r\n",
        "        self.device = device\r\n",
        "        \r\n",
        "    def __iter__(self):\r\n",
        "        \"\"\"Yield a batch of data after moving it to device\"\"\"\r\n",
        "        for b in self.dl: \r\n",
        "            yield to_device(b, self.device)\r\n",
        "\r\n",
        "    def __len__(self):\r\n",
        "        \"\"\"Number of batches\"\"\"\r\n",
        "        return len(self.dl)\r\n",
        "\r\n",
        "\r\n",
        "train_loader = DeviceDataLoader(train_loader, device)\r\n",
        "val_loader = DeviceDataLoader(val_loader, device)        "
      ],
      "execution_count": 47,
      "outputs": [
        {
          "output_type": "stream",
          "text": [
            "torch.Size([128, 1, 28, 28])\n",
            "cpu\n"
          ],
          "name": "stdout"
        }
      ]
    },
    {
      "cell_type": "markdown",
      "metadata": {
        "id": "8yF_8I_42ak8"
      },
      "source": [
        "#Training"
      ]
    },
    {
      "cell_type": "code",
      "metadata": {
        "colab": {
          "base_uri": "https://localhost:8080/"
        },
        "id": "mBWkGd4p2cwR",
        "outputId": "30c0c784-b932-4f1e-8c30-26b19e0d4312"
      },
      "source": [
        "def evaluate(model, val_loader):\r\n",
        "  outputs = [model.val_step(batch) for batch in val_loader]\r\n",
        "  return model.val_epoch_end(outputs)\r\n",
        "\r\n",
        "def fit(epochs, lr, model, train_loader, val_loader, opt_func=torch.optim.SGD):\r\n",
        "  history = []\r\n",
        "  optimizer = opt_func(model.parameters(),lr)\r\n",
        "  for epoch in range(epochs):\r\n",
        "        # Training Phase \r\n",
        "        for batch in train_loader:\r\n",
        "            loss = model.training_step(batch)\r\n",
        "            loss.backward()\r\n",
        "            optimizer.step()\r\n",
        "            optimizer.zero_grad()\r\n",
        "        # Validation phase\r\n",
        "        result = evaluate(model, val_loader)\r\n",
        "        model.epoch_end(epoch, result)\r\n",
        "        history.append(result)\r\n",
        "  return history\r\n",
        "\r\n",
        "\r\n",
        "# Model (on GPU)\r\n",
        "model = MnistModel(input_size, hidden_size=hidden_size, out_size=num_classes)\r\n",
        "to_device(model, device)"
      ],
      "execution_count": 51,
      "outputs": [
        {
          "output_type": "execute_result",
          "data": {
            "text/plain": [
              "MnistModel(\n",
              "  (linear1): Linear(in_features=784, out_features=32, bias=True)\n",
              "  (linear2): Linear(in_features=32, out_features=10, bias=True)\n",
              ")"
            ]
          },
          "metadata": {
            "tags": []
          },
          "execution_count": 51
        }
      ]
    },
    {
      "cell_type": "markdown",
      "metadata": {
        "id": "BQdVqnRa-DBy"
      },
      "source": [
        "#Evaluation"
      ]
    },
    {
      "cell_type": "code",
      "metadata": {
        "colab": {
          "base_uri": "https://localhost:8080/"
        },
        "id": "B9tpGEBe-K1j",
        "outputId": "283909ad-73f5-4727-ce72-a29d96162fa9"
      },
      "source": [
        "#Evaluation\r\n",
        "history = [evaluate(model, val_loader)]\r\n",
        "history"
      ],
      "execution_count": 52,
      "outputs": [
        {
          "output_type": "execute_result",
          "data": {
            "text/plain": [
              "[{'val_acc': 0.10107421875, 'val_loss': 2.3049862384796143}]"
            ]
          },
          "metadata": {
            "tags": []
          },
          "execution_count": 52
        }
      ]
    },
    {
      "cell_type": "code",
      "metadata": {
        "colab": {
          "base_uri": "https://localhost:8080/"
        },
        "id": "mFk_TE0e-FCe",
        "outputId": "e39c4928-5ac2-48b5-d4c6-cedfd745c9fa"
      },
      "source": [
        "history += fit(5, 0.5, model, train_loader, val_loader)"
      ],
      "execution_count": 53,
      "outputs": [
        {
          "output_type": "stream",
          "text": [
            "Epoch [0], val_loss: 0.2296, val_acc: 0.9324\n",
            "Epoch [1], val_loss: 0.2061, val_acc: 0.9390\n",
            "Epoch [2], val_loss: 0.1506, val_acc: 0.9546\n",
            "Epoch [3], val_loss: 0.1513, val_acc: 0.9561\n",
            "Epoch [4], val_loss: 0.1339, val_acc: 0.9602\n"
          ],
          "name": "stdout"
        }
      ]
    },
    {
      "cell_type": "code",
      "metadata": {
        "colab": {
          "base_uri": "https://localhost:8080/",
          "height": 295
        },
        "id": "S3iuw-D7-QXJ",
        "outputId": "c686c098-d7ac-4dd7-8477-db64b8179eb6"
      },
      "source": [
        "losses = [x['val_loss'] for x in history]\r\n",
        "plt.plot(losses, '-x')\r\n",
        "plt.xlabel('epoch')\r\n",
        "plt.ylabel('loss')\r\n",
        "plt.title('Loss vs. No. of epochs');"
      ],
      "execution_count": 54,
      "outputs": [
        {
          "output_type": "display_data",
          "data": {
            "image/png": "[encoded data removed]",
            "text/plain": [
              "<Figure size 432x288 with 1 Axes>"
            ]
          },
          "metadata": {
            "tags": []
          }
        }
      ]
    },
    {
      "cell_type": "code",
      "metadata": {
        "colab": {
          "base_uri": "https://localhost:8080/",
          "height": 295
        },
        "id": "cs3wThBM-SUE",
        "outputId": "8f6a679d-03ce-4e63-89f1-bf8784b332a0"
      },
      "source": [
        "accuracies = [x['val_acc'] for x in history]\r\n",
        "plt.plot(accuracies, '-x')\r\n",
        "plt.xlabel('epoch')\r\n",
        "plt.ylabel('accuracy')\r\n",
        "plt.title('Accuracy vs. No. of epochs');"
      ],
      "execution_count": 55,
      "outputs": [
        {
          "output_type": "display_data",
          "data": {
            "image/png": "[encoded data removed]",
            "text/plain": [
              "<Figure size 432x288 with 1 Axes>"
            ]
          },
          "metadata": {
            "tags": []
          }
        }
      ]
    },
    {
      "cell_type": "markdown",
      "metadata": {
        "id": "W1O1qC6yCl1v"
      },
      "source": [
        "#Testing with individual images"
      ]
    },
    {
      "cell_type": "code",
      "metadata": {
        "id": "6CJZUXa9CgLF"
      },
      "source": [
        "test_dataset = MNIST(root='data/', \r\n",
        "                     train=False,\r\n",
        "                     transform=ToTensor())\r\n",
        "\r\n",
        "def predict_image(img, model):\r\n",
        "    xb = to_device(img.unsqueeze(0), device)\r\n",
        "    yb = model(xb)\r\n",
        "    _, preds  = torch.max(yb, dim=1)\r\n",
        "    return preds[0].item()\r\n",
        "  "
      ],
      "execution_count": 56,
      "outputs": []
    },
    {
      "cell_type": "code",
      "metadata": {
        "colab": {
          "base_uri": "https://localhost:8080/",
          "height": 282
        },
        "id": "LLG2VhQoDCSz",
        "outputId": "fb3fa97d-1e47-4bad-fdf4-0d683efdf27f"
      },
      "source": [
        "img, label = test_dataset[174]\r\n",
        "plt.imshow(img[0], cmap='gray')\r\n",
        "print('Label:', label, ', Predicted:', predict_image(img, model))"
      ],
      "execution_count": 59,
      "outputs": [
        {
          "output_type": "stream",
          "text": [
            "Label: 2 , Predicted: 2\n"
          ],
          "name": "stdout"
        },
        {
          "output_type": "display_data",
          "data": {
            "image/png": "[encoded data removed]",
            "text/plain": [
              "<Figure size 432x288 with 1 Axes>"
            ]
          },
          "metadata": {
            "tags": []
          }
        }
      ]
    }
  ]
}