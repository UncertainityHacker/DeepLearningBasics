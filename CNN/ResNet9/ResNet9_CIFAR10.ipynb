{
  "nbformat": 4,
  "nbformat_minor": 0,
  "metadata": {
    "colab": {
      "name": "ResNet9_CIFAR10.ipynb",
      "provenance": []
    },
    "kernelspec": {
      "name": "python3",
      "display_name": "Python 3"
    },
    "accelerator": "GPU"
  },
  "cells": [
    {
      "cell_type": "markdown",
      "metadata": {
        "id": "poYoy1SXVypO"
      },
      "source": [
        "#Libraries"
      ]
    },
    {
      "cell_type": "code",
      "metadata": {
        "id": "k9qMX3NuV0uP"
      },
      "source": [
        "import os\r\n",
        "import torch\r\n",
        "import torchvision\r\n",
        "import tarfile\r\n",
        "import torch.nn as nn\r\n",
        "import numpy as np\r\n",
        "import torch.nn.functional as F\r\n",
        "from torchvision.datasets.utils import download_url\r\n",
        "from torchvision.datasets import ImageFolder\r\n",
        "from torch.utils.data import DataLoader\r\n",
        "import torchvision.transforms as tt\r\n",
        "from torch.utils.data import random_split\r\n",
        "from torchvision.utils import make_grid\r\n",
        "import matplotlib\r\n",
        "import matplotlib.pyplot as plt\r\n",
        "%matplotlib inline\r\n",
        "\r\n",
        "matplotlib.rcParams['figure.facecolor'] = '#ffffff'"
      ],
      "execution_count": 7,
      "outputs": []
    },
    {
      "cell_type": "markdown",
      "metadata": {
        "id": "83gXBXCmWDDH"
      },
      "source": [
        "#Prepare Data"
      ]
    },
    {
      "cell_type": "code",
      "metadata": {
        "colab": {
          "base_uri": "https://localhost:8080/"
        },
        "id": "oTJf1P_YWG8a",
        "outputId": "26f99185-4bde-40c5-9e82-99af25c59a92"
      },
      "source": [
        "# Dowload the dataset\r\n",
        "dataset_url = \"https://s3.amazonaws.com/fast-ai-imageclas/cifar10.tgz\"\r\n",
        "download_url(dataset_url, '.')\r\n",
        "\r\n",
        "# Extract from archive\r\n",
        "with tarfile.open('./cifar10.tgz', 'r:gz') as tar:\r\n",
        "    tar.extractall(path='./data')\r\n",
        "\r\n",
        "# Data transforms (normalization & data augmentation)\r\n",
        "stats = ((0.4914, 0.4822, 0.4465), (0.2023, 0.1994, 0.2010))\r\n",
        "train_tfms = tt.Compose([tt.RandomCrop(32, padding=4, padding_mode='reflect'), \r\n",
        "                         tt.RandomHorizontalFlip(), \r\n",
        "                         # tt.RandomRotate\r\n",
        "                         # tt.RandomResizedCrop(256, scale=(0.5,0.9), ratio=(1, 1)), \r\n",
        "                         # tt.ColorJitter(brightness=0.1, contrast=0.1, saturation=0.1, hue=0.1),\r\n",
        "                         tt.ToTensor(), \r\n",
        "                         tt.Normalize(*stats,inplace=True)])\r\n",
        "valid_tfms = tt.Compose([tt.ToTensor(), tt.Normalize(*stats)])\r\n",
        "\r\n",
        "data_dir = './data/cifar10'\r\n",
        "# PyTorch datasets\r\n",
        "train_ds = ImageFolder(data_dir+'/train', train_tfms)\r\n",
        "valid_ds = ImageFolder(data_dir+'/test', valid_tfms)\r\n",
        "\r\n",
        "# PyTorch data loaders\r\n",
        "train_dl = DataLoader(train_ds, batch_size, shuffle=True, num_workers=3, pin_memory=True)\r\n",
        "valid_dl = DataLoader(valid_ds, batch_size*2, num_workers=3, pin_memory=True)\r\n",
        "\r\n",
        "batch_size = 400\r\n",
        "\r\n",
        "def denormalize(images, means, stds):\r\n",
        "    means = torch.tensor(means).reshape(1, 3, 1, 1)\r\n",
        "    stds = torch.tensor(stds).reshape(1, 3, 1, 1)\r\n",
        "    return images * stds + means\r\n",
        "\r\n",
        "def show_batch(dl):\r\n",
        "    for images, labels in dl:\r\n",
        "        fig, ax = plt.subplots(figsize=(12, 12))\r\n",
        "        ax.set_xticks([]); ax.set_yticks([])\r\n",
        "        denorm_images = denormalize(images, *stats)\r\n",
        "        ax.imshow(make_grid(denorm_images[:64], nrow=8).permute(1, 2, 0).clamp(0,1))\r\n",
        "        break"
      ],
      "execution_count": 6,
      "outputs": [
        {
          "output_type": "stream",
          "text": [
            "Using downloaded and verified file: ./cifar10.tgz\n"
          ],
          "name": "stdout"
        }
      ]
    },
    {
      "cell_type": "markdown",
      "metadata": {
        "id": "8PkVTpV0WZao"
      },
      "source": [
        "#Select Device"
      ]
    },
    {
      "cell_type": "code",
      "metadata": {
        "id": "1Vk1MVbiWbhn"
      },
      "source": [
        "def get_default_device():\r\n",
        "    \"\"\"Pick GPU if available, else CPU\"\"\"\r\n",
        "    if torch.cuda.is_available():\r\n",
        "        return torch.device('cuda')\r\n",
        "    else:\r\n",
        "        return torch.device('cpu')\r\n",
        "    \r\n",
        "def to_device(data, device):\r\n",
        "    \"\"\"Move tensor(s) to chosen device\"\"\"\r\n",
        "    if isinstance(data, (list,tuple)):\r\n",
        "        return [to_device(x, device) for x in data]\r\n",
        "    return data.to(device, non_blocking=True)\r\n",
        "\r\n",
        "class DeviceDataLoader():\r\n",
        "    \"\"\"Wrap a dataloader to move data to a device\"\"\"\r\n",
        "    def __init__(self, dl, device):\r\n",
        "        self.dl = dl\r\n",
        "        self.device = device\r\n",
        "        \r\n",
        "    def __iter__(self):\r\n",
        "        \"\"\"Yield a batch of data after moving it to device\"\"\"\r\n",
        "        for b in self.dl: \r\n",
        "            yield to_device(b, self.device)\r\n",
        "\r\n",
        "    def __len__(self):\r\n",
        "        \"\"\"Number of batches\"\"\"\r\n",
        "        return len(self.dl)\r\n",
        "\r\n",
        "\r\n",
        "device = get_default_device()\r\n",
        "\r\n",
        "train_dl = DeviceDataLoader(train_dl, device)\r\n",
        "valid_dl = DeviceDataLoader(valid_dl, device)"
      ],
      "execution_count": 8,
      "outputs": []
    },
    {
      "cell_type": "markdown",
      "metadata": {
        "id": "-ZW0P39wWseV"
      },
      "source": [
        "#Model"
      ]
    },
    {
      "cell_type": "code",
      "metadata": {
        "id": "Sj48YqgfWveX"
      },
      "source": [
        "def accuracy(outputs, labels):\r\n",
        "    _, preds = torch.max(outputs, dim=1)\r\n",
        "    return torch.tensor(torch.sum(preds == labels).item() / len(preds))\r\n",
        "\r\n",
        "class ImageClassificationBase(nn.Module):\r\n",
        "    def training_step(self, batch):\r\n",
        "        images, labels = batch \r\n",
        "        out = self(images)                  # Generate predictions\r\n",
        "        loss = F.cross_entropy(out, labels) # Calculate loss\r\n",
        "        return loss\r\n",
        "    \r\n",
        "    def validation_step(self, batch):\r\n",
        "        images, labels = batch \r\n",
        "        out = self(images)                    # Generate predictions\r\n",
        "        loss = F.cross_entropy(out, labels)   # Calculate loss\r\n",
        "        acc = accuracy(out, labels)           # Calculate accuracy\r\n",
        "        return {'val_loss': loss.detach(), 'val_acc': acc}\r\n",
        "        \r\n",
        "    def validation_epoch_end(self, outputs):\r\n",
        "        batch_losses = [x['val_loss'] for x in outputs]\r\n",
        "        epoch_loss = torch.stack(batch_losses).mean()   # Combine losses\r\n",
        "        batch_accs = [x['val_acc'] for x in outputs]\r\n",
        "        epoch_acc = torch.stack(batch_accs).mean()      # Combine accuracies\r\n",
        "        return {'val_loss': epoch_loss.item(), 'val_acc': epoch_acc.item()}\r\n",
        "    \r\n",
        "    def epoch_end(self, epoch, result):\r\n",
        "        print(\"Epoch [{}], last_lr: {:.5f}, train_loss: {:.4f}, val_loss: {:.4f}, val_acc: {:.4f}\".format(\r\n",
        "            epoch, result['lrs'][-1], result['train_loss'], result['val_loss'], result['val_acc']))"
      ],
      "execution_count": 9,
      "outputs": []
    },
    {
      "cell_type": "code",
      "metadata": {
        "id": "vYIMHfkeW0We"
      },
      "source": [
        "def conv_block(in_channels, out_channels, pool=False):\r\n",
        "    layers = [nn.Conv2d(in_channels, out_channels, kernel_size=3, padding=1), \r\n",
        "              nn.BatchNorm2d(out_channels), \r\n",
        "              nn.ReLU(inplace=True)]\r\n",
        "    if pool: layers.append(nn.MaxPool2d(2))\r\n",
        "    return nn.Sequential(*layers)\r\n",
        "\r\n",
        "class ResNet9(ImageClassificationBase):\r\n",
        "    def __init__(self, in_channels, num_classes):\r\n",
        "        super().__init__()\r\n",
        "        \r\n",
        "        self.conv1 = conv_block(in_channels, 64)\r\n",
        "        self.conv2 = conv_block(64, 128, pool=True)\r\n",
        "        self.res1 = nn.Sequential(conv_block(128, 128), conv_block(128, 128))\r\n",
        "        \r\n",
        "        self.conv3 = conv_block(128, 256, pool=True)\r\n",
        "        self.conv4 = conv_block(256, 512, pool=True)\r\n",
        "        self.res2 = nn.Sequential(conv_block(512, 512), conv_block(512, 512))\r\n",
        "        \r\n",
        "        self.classifier = nn.Sequential(nn.MaxPool2d(4), \r\n",
        "                                        nn.Flatten(), \r\n",
        "                                        nn.Dropout(0.2),\r\n",
        "                                        nn.Linear(512, num_classes))\r\n",
        "        \r\n",
        "    def forward(self, xb):\r\n",
        "        out = self.conv1(xb)\r\n",
        "        out = self.conv2(out)\r\n",
        "        out = self.res1(out) + out\r\n",
        "        out = self.conv3(out)\r\n",
        "        out = self.conv4(out)\r\n",
        "        out = self.res2(out) + out\r\n",
        "        out = self.classifier(out)\r\n",
        "        return out"
      ],
      "execution_count": 10,
      "outputs": []
    },
    {
      "cell_type": "code",
      "metadata": {
        "id": "675GzSiTW3HX"
      },
      "source": [
        "model = to_device(ResNet9(3, 10), device)"
      ],
      "execution_count": 11,
      "outputs": []
    },
    {
      "cell_type": "markdown",
      "metadata": {
        "id": "xnG6qXlaW5SF"
      },
      "source": [
        "#Training"
      ]
    },
    {
      "cell_type": "code",
      "metadata": {
        "id": "paAS0kJiW7YN"
      },
      "source": [
        "@torch.no_grad()\r\n",
        "def evaluate(model, val_loader):\r\n",
        "    model.eval()\r\n",
        "    outputs = [model.validation_step(batch) for batch in val_loader]\r\n",
        "    return model.validation_epoch_end(outputs)\r\n",
        "\r\n",
        "def get_lr(optimizer):\r\n",
        "    for param_group in optimizer.param_groups:\r\n",
        "        return param_group['lr']\r\n",
        "\r\n",
        "def fit_one_cycle(epochs, max_lr, model, train_loader, val_loader, \r\n",
        "                  weight_decay=0, grad_clip=None, opt_func=torch.optim.SGD):\r\n",
        "    torch.cuda.empty_cache()\r\n",
        "    history = []\r\n",
        "    \r\n",
        "    # Set up cutom optimizer with weight decay\r\n",
        "    optimizer = opt_func(model.parameters(), max_lr, weight_decay=weight_decay)\r\n",
        "    # Set up one-cycle learning rate scheduler\r\n",
        "    sched = torch.optim.lr_scheduler.OneCycleLR(optimizer, max_lr, epochs=epochs, \r\n",
        "                                                steps_per_epoch=len(train_loader))\r\n",
        "    \r\n",
        "    for epoch in range(epochs):\r\n",
        "        # Training Phase \r\n",
        "        model.train()\r\n",
        "        train_losses = []\r\n",
        "        lrs = []\r\n",
        "        for batch in train_loader:\r\n",
        "            loss = model.training_step(batch)\r\n",
        "            train_losses.append(loss)\r\n",
        "            loss.backward()\r\n",
        "            \r\n",
        "            # Gradient clipping\r\n",
        "            if grad_clip: \r\n",
        "                nn.utils.clip_grad_value_(model.parameters(), grad_clip)\r\n",
        "            \r\n",
        "            optimizer.step()\r\n",
        "            optimizer.zero_grad()\r\n",
        "            \r\n",
        "            # Record & update learning rate\r\n",
        "            lrs.append(get_lr(optimizer))\r\n",
        "            sched.step()\r\n",
        "        \r\n",
        "        # Validation phase\r\n",
        "        result = evaluate(model, val_loader)\r\n",
        "        result['train_loss'] = torch.stack(train_losses).mean().item()\r\n",
        "        result['lrs'] = lrs\r\n",
        "        model.epoch_end(epoch, result)\r\n",
        "        history.append(result)\r\n",
        "    return history"
      ],
      "execution_count": 12,
      "outputs": []
    },
    {
      "cell_type": "code",
      "metadata": {
        "id": "g7G1y5vsXCik"
      },
      "source": [
        "history = [evaluate(model, valid_dl)]"
      ],
      "execution_count": 13,
      "outputs": []
    },
    {
      "cell_type": "code",
      "metadata": {
        "id": "pw2GLIEOXKVE"
      },
      "source": [
        "epochs = 8\r\n",
        "max_lr = 0.01\r\n",
        "grad_clip = 0.1\r\n",
        "weight_decay = 1e-4\r\n",
        "opt_func = torch.optim.Adam"
      ],
      "execution_count": 14,
      "outputs": []
    },
    {
      "cell_type": "code",
      "metadata": {
        "colab": {
          "base_uri": "https://localhost:8080/"
        },
        "id": "TWJbpoAmXNnn",
        "outputId": "0180bd73-8940-4b51-e75a-bbffb73ab60c"
      },
      "source": [
        "%%time\r\n",
        "history += fit_one_cycle(epochs, max_lr, model, train_dl, valid_dl, \r\n",
        "                             grad_clip=grad_clip, \r\n",
        "                             weight_decay=weight_decay, \r\n",
        "                             opt_func=opt_func)"
      ],
      "execution_count": 15,
      "outputs": [
        {
          "output_type": "stream",
          "text": [
            "Epoch [0], last_lr: 0.00393, train_loss: 1.4814, val_loss: 2.0335, val_acc: 0.4673\n",
            "Epoch [1], last_lr: 0.00935, train_loss: 1.0871, val_loss: 1.7491, val_acc: 0.5348\n",
            "Epoch [2], last_lr: 0.00972, train_loss: 0.8502, val_loss: 0.6440, val_acc: 0.7814\n",
            "Epoch [3], last_lr: 0.00812, train_loss: 0.6264, val_loss: 0.8041, val_acc: 0.7398\n",
            "Epoch [4], last_lr: 0.00556, train_loss: 0.5230, val_loss: 0.6027, val_acc: 0.7999\n",
            "Epoch [5], last_lr: 0.00283, train_loss: 0.4031, val_loss: 0.4022, val_acc: 0.8617\n",
            "Epoch [6], last_lr: 0.00077, train_loss: 0.3022, val_loss: 0.3149, val_acc: 0.8923\n",
            "Epoch [7], last_lr: 0.00000, train_loss: 0.2254, val_loss: 0.2931, val_acc: 0.9003\n",
            "CPU times: user 38.2 s, sys: 21.7 s, total: 59.9 s\n",
            "Wall time: 4min 26s\n"
          ],
          "name": "stdout"
        }
      ]
    },
    {
      "cell_type": "code",
      "metadata": {
        "colab": {
          "base_uri": "https://localhost:8080/",
          "height": 295
        },
        "id": "kI4W-fdKXRio",
        "outputId": "8fca5c12-0347-4eac-9d8e-a0db1fc9f5b7"
      },
      "source": [
        "def plot_accuracies(history):\r\n",
        "    accuracies = [x['val_acc'] for x in history]\r\n",
        "    plt.plot(accuracies, '-x')\r\n",
        "    plt.xlabel('epoch')\r\n",
        "    plt.ylabel('accuracy')\r\n",
        "    plt.title('Accuracy vs. No. of epochs');\r\n",
        "\r\n",
        "plot_accuracies(history)"
      ],
      "execution_count": 16,
      "outputs": [
        {
          "output_type": "display_data",
          "data": {
            "image/png": "[encoded data removed]",
            "text/plain": [
              "<Figure size 432x288 with 1 Axes>"
            ]
          },
          "metadata": {
            "tags": []
          }
        }
      ]
    },
    {
      "cell_type": "code",
      "metadata": {
        "id": "Mb74d7IYXVtm"
      },
      "source": [
        "def plot_losses(history):\r\n",
        "    train_losses = [x.get('train_loss') for x in history]\r\n",
        "    val_losses = [x['val_loss'] for x in history]\r\n",
        "    plt.plot(train_losses, '-bx')\r\n",
        "    plt.plot(val_losses, '-rx')\r\n",
        "    plt.xlabel('epoch')\r\n",
        "    plt.ylabel('loss')\r\n",
        "    plt.legend(['Training', 'Validation'])\r\n",
        "    plt.title('Loss vs. No. of epochs');"
      ],
      "execution_count": 17,
      "outputs": []
    },
    {
      "cell_type": "code",
      "metadata": {
        "colab": {
          "base_uri": "https://localhost:8080/",
          "height": 295
        },
        "id": "DRqBGsFQXYd1",
        "outputId": "2b67fa07-644f-4906-ab80-9e0c1434863d"
      },
      "source": [
        "plot_losses(history)"
      ],
      "execution_count": 18,
      "outputs": [
        {
          "output_type": "display_data",
          "data": {
            "image/png": "[encoded data removed]",
            "text/plain": [
              "<Figure size 432x288 with 1 Axes>"
            ]
          },
          "metadata": {
            "tags": []
          }
        }
      ]
    },
    {
      "cell_type": "code",
      "metadata": {
        "colab": {
          "base_uri": "https://localhost:8080/",
          "height": 295
        },
        "id": "6xF-beAuXb3K",
        "outputId": "00f2936f-1580-492d-9944-3f187bfb3aa1"
      },
      "source": [
        "def plot_lrs(history):\r\n",
        "    lrs = np.concatenate([x.get('lrs', []) for x in history])\r\n",
        "    plt.plot(lrs)\r\n",
        "    plt.xlabel('Batch no.')\r\n",
        "    plt.ylabel('Learning rate')\r\n",
        "    plt.title('Learning Rate vs. Batch no.');\r\n",
        "\r\n",
        "plot_lrs(history)"
      ],
      "execution_count": 19,
      "outputs": [
        {
          "output_type": "display_data",
          "data": {
            "image/png": "[encoded data removed]",
            "text/plain": [
              "<Figure size 432x288 with 1 Axes>"
            ]
          },
          "metadata": {
            "tags": []
          }
        }
      ]
    },
    {
      "cell_type": "markdown",
      "metadata": {
        "id": "h3Hjamv6Xh0c"
      },
      "source": [
        "#Test Images"
      ]
    },
    {
      "cell_type": "code",
      "metadata": {
        "id": "A7huTDrHXkBT"
      },
      "source": [
        "def predict_image(img, model):\r\n",
        "    # Convert to a batch of 1\r\n",
        "    xb = to_device(img.unsqueeze(0), device)\r\n",
        "    # Get predictions from model\r\n",
        "    yb = model(xb)\r\n",
        "    # Pick index with highest probability\r\n",
        "    _, preds  = torch.max(yb, dim=1)\r\n",
        "    # Retrieve the class label\r\n",
        "    return train_ds.classes[preds[0].item()]"
      ],
      "execution_count": 20,
      "outputs": []
    },
    {
      "cell_type": "code",
      "metadata": {
        "id": "irr-srVAbsPZ",
        "outputId": "cd8ab272-0e31-4688-814f-2c152a892e9f",
        "colab": {
          "base_uri": "https://localhost:8080/",
          "height": 283
        }
      },
      "source": [
        "img, label = valid_ds[0]\r\n",
        "plt.imshow(img.permute(1, 2, 0).clamp(0, 1))\r\n",
        "print('Label:', train_ds.classes[label], ', Predicted:', predict_image(img, model))"
      ],
      "execution_count": 22,
      "outputs": [
        {
          "output_type": "stream",
          "text": [
            "Label: airplane , Predicted: ship\n"
          ],
          "name": "stdout"
        },
        {
          "output_type": "display_data",
          "data": {
            "image/png": "[encoded data removed]",
            "text/plain": [
              "<Figure size 432x288 with 1 Axes>"
            ]
          },
          "metadata": {
            "tags": []
          }
        }
      ]
    },
    {
      "cell_type": "code",
      "metadata": {
        "id": "WvK2AkVibs6x"
      },
      "source": [
        ""
      ],
      "execution_count": null,
      "outputs": []
    }
  ]
}