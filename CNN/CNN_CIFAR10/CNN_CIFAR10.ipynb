{
  "nbformat": 4,
  "nbformat_minor": 0,
  "metadata": {
    "colab": {
      "name": "CNN_CIFAR10.ipynb",
      "provenance": [],
      "collapsed_sections": []
    },
    "kernelspec": {
      "name": "python3",
      "display_name": "Python 3"
    },
    "accelerator": "GPU",
    "widgets": {
      "application/vnd.jupyter.widget-state+json": {
        "c0c6cbfbd73943f099c4a1a9c3664852": {
          "model_module": "@jupyter-widgets/controls",
          "model_name": "HBoxModel",
          "state": {
            "_view_name": "HBoxView",
            "_dom_classes": [],
            "_model_name": "HBoxModel",
            "_view_module": "@jupyter-widgets/controls",
            "_model_module_version": "1.5.0",
            "_view_count": null,
            "_view_module_version": "1.5.0",
            "box_style": "",
            "layout": "IPY_MODEL_bc3435ea0cef40be8ae3183ab4f8a1f4",
            "_model_module": "@jupyter-widgets/controls",
            "children": [
              "IPY_MODEL_3a1436c9b6b14ad4bc61d1c2a5194159",
              "IPY_MODEL_9f30b19aee344e56b47c3d036ec9f7f9"
            ]
          }
        },
        "bc3435ea0cef40be8ae3183ab4f8a1f4": {
          "model_module": "@jupyter-widgets/base",
          "model_name": "LayoutModel",
          "state": {
            "_view_name": "LayoutView",
            "grid_template_rows": null,
            "right": null,
            "justify_content": null,
            "_view_module": "@jupyter-widgets/base",
            "overflow": null,
            "_model_module_version": "1.2.0",
            "_view_count": null,
            "flex_flow": null,
            "width": null,
            "min_width": null,
            "border": null,
            "align_items": null,
            "bottom": null,
            "_model_module": "@jupyter-widgets/base",
            "top": null,
            "grid_column": null,
            "overflow_y": null,
            "overflow_x": null,
            "grid_auto_flow": null,
            "grid_area": null,
            "grid_template_columns": null,
            "flex": null,
            "_model_name": "LayoutModel",
            "justify_items": null,
            "grid_row": null,
            "max_height": null,
            "align_content": null,
            "visibility": null,
            "align_self": null,
            "height": null,
            "min_height": null,
            "padding": null,
            "grid_auto_rows": null,
            "grid_gap": null,
            "max_width": null,
            "order": null,
            "_view_module_version": "1.2.0",
            "grid_template_areas": null,
            "object_position": null,
            "object_fit": null,
            "grid_auto_columns": null,
            "margin": null,
            "display": null,
            "left": null
          }
        },
        "3a1436c9b6b14ad4bc61d1c2a5194159": {
          "model_module": "@jupyter-widgets/controls",
          "model_name": "FloatProgressModel",
          "state": {
            "_view_name": "ProgressView",
            "style": "IPY_MODEL_f52998fd50bb41a7936eaa8c4ed3d98d",
            "_dom_classes": [],
            "description": "",
            "_model_name": "FloatProgressModel",
            "bar_style": "success",
            "max": 1,
            "_view_module": "@jupyter-widgets/controls",
            "_model_module_version": "1.5.0",
            "value": 1,
            "_view_count": null,
            "_view_module_version": "1.5.0",
            "orientation": "horizontal",
            "min": 0,
            "description_tooltip": null,
            "_model_module": "@jupyter-widgets/controls",
            "layout": "IPY_MODEL_d81fadbd81984f0fad79b6d061a7a9c9"
          }
        },
        "9f30b19aee344e56b47c3d036ec9f7f9": {
          "model_module": "@jupyter-widgets/controls",
          "model_name": "HTMLModel",
          "state": {
            "_view_name": "HTMLView",
            "style": "IPY_MODEL_81f53e60c8fd4fd2b68ee5dd684a90b3",
            "_dom_classes": [],
            "description": "",
            "_model_name": "HTMLModel",
            "placeholder": "​",
            "_view_module": "@jupyter-widgets/controls",
            "_model_module_version": "1.5.0",
            "value": " 135110656/? [00:02&lt;00:00, 54720984.32it/s]",
            "_view_count": null,
            "_view_module_version": "1.5.0",
            "description_tooltip": null,
            "_model_module": "@jupyter-widgets/controls",
            "layout": "IPY_MODEL_382a7eed183c4404a4216b4fee92fca4"
          }
        },
        "f52998fd50bb41a7936eaa8c4ed3d98d": {
          "model_module": "@jupyter-widgets/controls",
          "model_name": "ProgressStyleModel",
          "state": {
            "_view_name": "StyleView",
            "_model_name": "ProgressStyleModel",
            "description_width": "initial",
            "_view_module": "@jupyter-widgets/base",
            "_model_module_version": "1.5.0",
            "_view_count": null,
            "_view_module_version": "1.2.0",
            "bar_color": null,
            "_model_module": "@jupyter-widgets/controls"
          }
        },
        "d81fadbd81984f0fad79b6d061a7a9c9": {
          "model_module": "@jupyter-widgets/base",
          "model_name": "LayoutModel",
          "state": {
            "_view_name": "LayoutView",
            "grid_template_rows": null,
            "right": null,
            "justify_content": null,
            "_view_module": "@jupyter-widgets/base",
            "overflow": null,
            "_model_module_version": "1.2.0",
            "_view_count": null,
            "flex_flow": null,
            "width": null,
            "min_width": null,
            "border": null,
            "align_items": null,
            "bottom": null,
            "_model_module": "@jupyter-widgets/base",
            "top": null,
            "grid_column": null,
            "overflow_y": null,
            "overflow_x": null,
            "grid_auto_flow": null,
            "grid_area": null,
            "grid_template_columns": null,
            "flex": null,
            "_model_name": "LayoutModel",
            "justify_items": null,
            "grid_row": null,
            "max_height": null,
            "align_content": null,
            "visibility": null,
            "align_self": null,
            "height": null,
            "min_height": null,
            "padding": null,
            "grid_auto_rows": null,
            "grid_gap": null,
            "max_width": null,
            "order": null,
            "_view_module_version": "1.2.0",
            "grid_template_areas": null,
            "object_position": null,
            "object_fit": null,
            "grid_auto_columns": null,
            "margin": null,
            "display": null,
            "left": null
          }
        },
        "81f53e60c8fd4fd2b68ee5dd684a90b3": {
          "model_module": "@jupyter-widgets/controls",
          "model_name": "DescriptionStyleModel",
          "state": {
            "_view_name": "StyleView",
            "_model_name": "DescriptionStyleModel",
            "description_width": "",
            "_view_module": "@jupyter-widgets/base",
            "_model_module_version": "1.5.0",
            "_view_count": null,
            "_view_module_version": "1.2.0",
            "_model_module": "@jupyter-widgets/controls"
          }
        },
        "382a7eed183c4404a4216b4fee92fca4": {
          "model_module": "@jupyter-widgets/base",
          "model_name": "LayoutModel",
          "state": {
            "_view_name": "LayoutView",
            "grid_template_rows": null,
            "right": null,
            "justify_content": null,
            "_view_module": "@jupyter-widgets/base",
            "overflow": null,
            "_model_module_version": "1.2.0",
            "_view_count": null,
            "flex_flow": null,
            "width": null,
            "min_width": null,
            "border": null,
            "align_items": null,
            "bottom": null,
            "_model_module": "@jupyter-widgets/base",
            "top": null,
            "grid_column": null,
            "overflow_y": null,
            "overflow_x": null,
            "grid_auto_flow": null,
            "grid_area": null,
            "grid_template_columns": null,
            "flex": null,
            "_model_name": "LayoutModel",
            "justify_items": null,
            "grid_row": null,
            "max_height": null,
            "align_content": null,
            "visibility": null,
            "align_self": null,
            "height": null,
            "min_height": null,
            "padding": null,
            "grid_auto_rows": null,
            "grid_gap": null,
            "max_width": null,
            "order": null,
            "_view_module_version": "1.2.0",
            "grid_template_areas": null,
            "object_position": null,
            "object_fit": null,
            "grid_auto_columns": null,
            "margin": null,
            "display": null,
            "left": null
          }
        }
      }
    }
  },
  "cells": [
    {
      "cell_type": "markdown",
      "metadata": {
        "id": "iCIzWpSDGHPX"
      },
      "source": [
        "#Important Libraries to import"
      ]
    },
    {
      "cell_type": "code",
      "metadata": {
        "id": "-aM5c59XGNhd"
      },
      "source": [
        "import os\r\n",
        "import torch\r\n",
        "import torchvision\r\n",
        "import tarfile\r\n",
        "import torch.nn as nn\r\n",
        "import torch.nn.functional as F\r\n",
        "from torchvision.datasets.utils import download_url\r\n",
        "from torchvision.datasets import ImageFolder\r\n",
        "from torchvision.transforms import ToTensor\r\n",
        "from torch.utils.data import random_split\r\n",
        "from torch.utils.data.dataloader import DataLoader\r\n",
        "from torchvision.utils import make_grid\r\n",
        "import matplotlib\r\n",
        "import matplotlib.pyplot as plt\r\n",
        "%matplotlib inline\r\n",
        "\r\n",
        "matplotlib.rcParams['figure.facecolor'] = '#ffffff'"
      ],
      "execution_count": 1,
      "outputs": []
    },
    {
      "cell_type": "markdown",
      "metadata": {
        "id": "vj8ZdK0aGaAm"
      },
      "source": [
        "#Prepare Dataset"
      ]
    },
    {
      "cell_type": "code",
      "metadata": {
        "colab": {
          "base_uri": "https://localhost:8080/",
          "height": 82,
          "referenced_widgets": [
            "c0c6cbfbd73943f099c4a1a9c3664852",
            "bc3435ea0cef40be8ae3183ab4f8a1f4",
            "3a1436c9b6b14ad4bc61d1c2a5194159",
            "9f30b19aee344e56b47c3d036ec9f7f9",
            "f52998fd50bb41a7936eaa8c4ed3d98d",
            "d81fadbd81984f0fad79b6d061a7a9c9",
            "81f53e60c8fd4fd2b68ee5dd684a90b3",
            "382a7eed183c4404a4216b4fee92fca4"
          ]
        },
        "id": "W3Q2n6wvGdLx",
        "outputId": "6b042f86-3927-425f-94c6-99fc5d6d4d22"
      },
      "source": [
        "# Dowload the dataset\r\n",
        "dataset_url = \"https://s3.amazonaws.com/fast-ai-imageclas/cifar10.tgz\"\r\n",
        "download_url(dataset_url, '.')\r\n",
        "\r\n",
        "# Extract from archive\r\n",
        "with tarfile.open('./cifar10.tgz', 'r:gz') as tar:\r\n",
        "    tar.extractall(path='./data')\r\n",
        "\r\n",
        "data_dir = './data/cifar10'\r\n",
        "\r\n",
        "dataset = ImageFolder(data_dir+'/train', transform=ToTensor())\r\n",
        "\r\n",
        "\r\n",
        "def show_example(img, label):\r\n",
        "    print('Label: ', dataset.classes[label], \"(\"+str(label)+\")\")\r\n",
        "    plt.imshow(img.permute(1, 2, 0))\r\n",
        " "
      ],
      "execution_count": 2,
      "outputs": [
        {
          "output_type": "stream",
          "text": [
            "Downloading https://s3.amazonaws.com/fast-ai-imageclas/cifar10.tgz to ./cifar10.tgz\n"
          ],
          "name": "stdout"
        },
        {
          "output_type": "display_data",
          "data": {
            "application/vnd.jupyter.widget-view+json": {
              "model_id": "c0c6cbfbd73943f099c4a1a9c3664852",
              "version_minor": 0,
              "version_major": 2
            },
            "text/plain": [
              "HBox(children=(FloatProgress(value=1.0, bar_style='info', max=1.0), HTML(value='')))"
            ]
          },
          "metadata": {
            "tags": []
          }
        },
        {
          "output_type": "stream",
          "text": [
            "\n"
          ],
          "name": "stdout"
        }
      ]
    },
    {
      "cell_type": "markdown",
      "metadata": {
        "id": "OpETZRwRHeLs"
      },
      "source": [
        "Training and Validation Datasets"
      ]
    },
    {
      "cell_type": "code",
      "metadata": {
        "id": "DWmBfXgxHg3n"
      },
      "source": [
        "random_seed = 42  \r\n",
        "torch.manual_seed(random_seed);                         #values will repeat only after 42 iteration \r\n",
        "\r\n",
        "val_size = 5000\r\n",
        "train_size = len(dataset) - val_size\r\n",
        "\r\n",
        "train_ds, val_ds = random_split(dataset,[train_size, val_size])\r\n",
        "\r\n",
        "batch_size = 400\r\n",
        "train_dl = DataLoader(train_ds, batch_size ,shuffle=True, num_workers=4, pin_memory=True)\r\n",
        "val_dl = DataLoader(val_ds, batch_size, num_workers=4, pin_memory=True)\r\n",
        "\r\n",
        "def show_batch(dl):\r\n",
        "    for images, labels in dl:\r\n",
        "        fig, ax = plt.subplots(figsize=(12, 6))\r\n",
        "        ax.set_xticks([]); ax.set_yticks([])\r\n",
        "        ax.imshow(make_grid(images, nrow=16).permute(1, 2, 0))\r\n",
        "        break"
      ],
      "execution_count": 32,
      "outputs": []
    },
    {
      "cell_type": "markdown",
      "metadata": {
        "id": "_pKJC8vqJFLR"
      },
      "source": [
        "#Model"
      ]
    },
    {
      "cell_type": "code",
      "metadata": {
        "id": "gKeJX05xJG_-"
      },
      "source": [
        "def apply_kernel(image,kernel):\r\n",
        "  ri, ci = image.shape\r\n",
        "  rk, ck = kernel.shape\r\n",
        "  ro, co = ri-rk+1, ci-ck+1\r\n",
        "\r\n",
        "  output = torch.zeros([ro,co])\r\n",
        "  for i in range(ro):\r\n",
        "    for j in range(co):\r\n",
        "      output[i,j]=torch.sum(image[i:i+rk,j:j+ck] * kernel)\r\n",
        "  \r\n",
        "  return output\r\n",
        "\r\n",
        "#Helper Function\r\n",
        "class ImageClassificationBase(nn.Module):\r\n",
        "  def training_step(self, batch):\r\n",
        "    images, labels = batch\r\n",
        "    out = self(images)\r\n",
        "    loss = F.cross_entropy(out, labels)\r\n",
        "    return loss\r\n",
        "  \r\n",
        "  def validation_step(self, batch):\r\n",
        "    images, labels = batch\r\n",
        "    out = self(images)\r\n",
        "    loss = F.cross_entropy(out, labels)\r\n",
        "    acc = accuracy(out, labels)\r\n",
        "    return {'val_loss': loss.detach(),'val_acc': acc}\r\n",
        "\r\n",
        "  def validation_epoch_end(self, outputs):\r\n",
        "    batch_losses = [x['val_loss'] for x in outputs]\r\n",
        "    epoch_loss = torch.stack(batch_losses).mean()\r\n",
        "    batch_acc = [x['val_acc'] for x in outputs]\r\n",
        "    epoch_acc = torch.stack(batch_acc).mean()\r\n",
        "    return {'val_loss': epoch_loss.item(), 'val_acc': epoch_acc.item()}\r\n",
        "\r\n",
        "  def epoch_end(self, epoch, result):\r\n",
        "    print(\"Epoch [{}], train_loss: {:.4f}, val_loss: {:.4f}, val_acc: {:.4f}\".format(\r\n",
        "            epoch, result['train_loss'], result['val_loss'], result['val_acc']))\r\n",
        "    \r\n",
        "def accuracy(outputs, labels):\r\n",
        "  _, preds = torch.max(outputs, dim=1)\r\n",
        "  return torch.tensor(torch.sum(preds == labels).item() / len(preds))\r\n",
        "\r\n",
        "#Architecture\r\n",
        "class Cifar10CnnModel(ImageClassificationBase):\r\n",
        "    def __init__(self):\r\n",
        "        super().__init__()\r\n",
        "        self.network = nn.Sequential(\r\n",
        "            nn.Conv2d(3, 32, kernel_size=3, padding=1),\r\n",
        "            nn.ReLU(),\r\n",
        "            nn.Conv2d(32, 64, kernel_size=3, stride=1, padding=1),\r\n",
        "            nn.ReLU(),\r\n",
        "            nn.MaxPool2d(2, 2), # output: 64 x 16 x 16\r\n",
        "\r\n",
        "            nn.Conv2d(64, 128, kernel_size=3, stride=1, padding=1),\r\n",
        "            nn.ReLU(),\r\n",
        "            nn.Conv2d(128, 128, kernel_size=3, stride=1, padding=1),\r\n",
        "            nn.ReLU(),\r\n",
        "            nn.MaxPool2d(2, 2), # output: 128 x 8 x 8\r\n",
        "\r\n",
        "            nn.Conv2d(128, 256, kernel_size=3, stride=1, padding=1),\r\n",
        "            nn.ReLU(),\r\n",
        "            nn.Conv2d(256, 256, kernel_size=3, stride=1, padding=1),\r\n",
        "            nn.ReLU(),\r\n",
        "            nn.MaxPool2d(2, 2), # output: 256 x 4 x 4\r\n",
        "\r\n",
        "            nn.Flatten(), \r\n",
        "            nn.Linear(256*4*4, 1024),\r\n",
        "            nn.ReLU(),\r\n",
        "            nn.Linear(1024, 512),\r\n",
        "            nn.ReLU(),\r\n",
        "            nn.Linear(512, 10))\r\n",
        "        \r\n",
        "    def forward(self, xb):\r\n",
        "        return self.network(xb)\r\n",
        "\r\n",
        "\r\n",
        "model = Cifar10CnnModel()"
      ],
      "execution_count": 33,
      "outputs": []
    },
    {
      "cell_type": "markdown",
      "metadata": {
        "id": "oVhn3oVsNj0q"
      },
      "source": [
        "#Select Device"
      ]
    },
    {
      "cell_type": "code",
      "metadata": {
        "id": "BxYruiv_Nlw9"
      },
      "source": [
        "def get_default_device():\r\n",
        "    \"\"\"Pick GPU if available, else CPU\"\"\"\r\n",
        "    if torch.cuda.is_available():\r\n",
        "        return torch.device('cuda')\r\n",
        "    else:\r\n",
        "        return torch.device('cpu')\r\n",
        "    \r\n",
        "def to_device(data, device):\r\n",
        "    \"\"\"Move tensor(s) to chosen device\"\"\"\r\n",
        "    if isinstance(data, (list,tuple)):\r\n",
        "        return [to_device(x, device) for x in data]\r\n",
        "    return data.to(device, non_blocking=True)\r\n",
        "\r\n",
        "class DeviceDataLoader():\r\n",
        "    \"\"\"Wrap a dataloader to move data to a device\"\"\"\r\n",
        "    def __init__(self, dl, device):\r\n",
        "        self.dl = dl\r\n",
        "        self.device = device\r\n",
        "        \r\n",
        "    def __iter__(self):\r\n",
        "        \"\"\"Yield a batch of data after moving it to device\"\"\"\r\n",
        "        for b in self.dl: \r\n",
        "            yield to_device(b, self.device)\r\n",
        "\r\n",
        "    def __len__(self):\r\n",
        "        \"\"\"Number of batches\"\"\"\r\n",
        "        return len(self.dl)\r\n",
        "\r\n",
        "device = get_default_device()\r\n",
        "\r\n",
        "#Move data to device\r\n",
        "train_dl = DeviceDataLoader(train_dl, device)\r\n",
        "val_dl = DeviceDataLoader(val_dl, device)\r\n",
        "to_device(model, device);\r\n"
      ],
      "execution_count": 34,
      "outputs": []
    },
    {
      "cell_type": "markdown",
      "metadata": {
        "id": "7xgUvz5mN7uk"
      },
      "source": [
        "#Training"
      ]
    },
    {
      "cell_type": "code",
      "metadata": {
        "colab": {
          "base_uri": "https://localhost:8080/"
        },
        "id": "qAKvFxe5N-OT",
        "outputId": "1561724e-aa39-4331-e61b-35f453dfe194"
      },
      "source": [
        "@torch.no_grad()\r\n",
        "def evaluate(model, val_loader):\r\n",
        "    model.eval()\r\n",
        "    outputs = [model.validation_step(batch) for batch in val_loader]\r\n",
        "    return model.validation_epoch_end(outputs)\r\n",
        "\r\n",
        "def fit(epochs, lr, model, train_loader, val_loader, opt_func=torch.optim.SGD):\r\n",
        "    history = []\r\n",
        "    optimizer = opt_func(model.parameters(), lr)\r\n",
        "    for epoch in range(epochs):\r\n",
        "        # Training Phase \r\n",
        "        model.train()\r\n",
        "        train_losses = []\r\n",
        "        for batch in train_loader:\r\n",
        "            loss = model.training_step(batch)\r\n",
        "            train_losses.append(loss)\r\n",
        "            loss.backward()\r\n",
        "            optimizer.step()\r\n",
        "            optimizer.zero_grad()\r\n",
        "        # Validation phase\r\n",
        "        result = evaluate(model, val_loader)\r\n",
        "        result['train_loss'] = torch.stack(train_losses).mean().item()\r\n",
        "        model.epoch_end(epoch, result)\r\n",
        "        history.append(result)\r\n",
        "    return history\r\n",
        "\r\n",
        "model = to_device(Cifar10CnnModel(), device)\r\n",
        "\r\n",
        "evaluate(model, val_dl)"
      ],
      "execution_count": 35,
      "outputs": [
        {
          "output_type": "execute_result",
          "data": {
            "text/plain": [
              "{'val_acc': 0.10096155107021332, 'val_loss': 2.303029775619507}"
            ]
          },
          "metadata": {
            "tags": []
          },
          "execution_count": 35
        }
      ]
    },
    {
      "cell_type": "code",
      "metadata": {
        "id": "x7qIsBiiOJSo"
      },
      "source": [
        "num_epochs = 5\r\n",
        "opt_func = torch.optim.SGD\r\n",
        "lr = 0.0001"
      ],
      "execution_count": 47,
      "outputs": []
    },
    {
      "cell_type": "code",
      "metadata": {
        "colab": {
          "base_uri": "https://localhost:8080/"
        },
        "id": "jDRPm0VJOHhq",
        "outputId": "40865347-2140-40af-d53a-2970a6ce5dcd"
      },
      "source": [
        "history = fit(num_epochs, lr, model, train_dl, val_dl, opt_func)"
      ],
      "execution_count": 48,
      "outputs": [
        {
          "output_type": "stream",
          "text": [
            "Epoch [0], train_loss: 0.3773, val_loss: 0.7644, val_acc: 0.7544\n",
            "Epoch [1], train_loss: 0.3769, val_loss: 0.7646, val_acc: 0.7537\n",
            "Epoch [2], train_loss: 0.3756, val_loss: 0.7644, val_acc: 0.7546\n",
            "Epoch [3], train_loss: 0.3759, val_loss: 0.7649, val_acc: 0.7542\n",
            "Epoch [4], train_loss: 0.3753, val_loss: 0.7655, val_acc: 0.7548\n"
          ],
          "name": "stdout"
        }
      ]
    },
    {
      "cell_type": "code",
      "metadata": {
        "id": "evA_YuvSOT4t"
      },
      "source": [
        "def plot_accuracies(history):\r\n",
        "    accuracies = [x['val_acc'] for x in history]\r\n",
        "    plt.plot(accuracies, '-x')\r\n",
        "    plt.xlabel('epoch')\r\n",
        "    plt.ylabel('accuracy')\r\n",
        "    plt.title('Accuracy vs. No. of epochs');"
      ],
      "execution_count": 9,
      "outputs": []
    },
    {
      "cell_type": "code",
      "metadata": {
        "colab": {
          "base_uri": "https://localhost:8080/",
          "height": 295
        },
        "id": "CXplCI2JOUpP",
        "outputId": "af9d21b9-b544-4e4c-e5db-13c0200d05b9"
      },
      "source": [
        "plot_accuracies(history)"
      ],
      "execution_count": 10,
      "outputs": [
        {
          "output_type": "display_data",
          "data": {
            "image/png": "[encoded data removed]",
            "text/plain": [
              "<Figure size 432x288 with 1 Axes>"
            ]
          },
          "metadata": {
            "tags": [],
            "needs_background": "light"
          }
        }
      ]
    },
    {
      "cell_type": "code",
      "metadata": {
        "id": "b8ZuacGHOYZR"
      },
      "source": [
        "def plot_losses(history):\r\n",
        "    train_losses = [x.get('train_loss') for x in history]\r\n",
        "    val_losses = [x['val_loss'] for x in history]\r\n",
        "    plt.plot(train_losses, '-bx')\r\n",
        "    plt.plot(val_losses, '-rx')\r\n",
        "    plt.xlabel('epoch')\r\n",
        "    plt.ylabel('loss')\r\n",
        "    plt.legend(['Training', 'Validation'])\r\n",
        "    plt.title('Loss vs. No. of epochs');"
      ],
      "execution_count": 11,
      "outputs": []
    },
    {
      "cell_type": "code",
      "metadata": {
        "colab": {
          "base_uri": "https://localhost:8080/",
          "height": 295
        },
        "id": "LRTvG3whOafV",
        "outputId": "b330d176-f870-409a-c6d9-01a5081fb695"
      },
      "source": [
        "plot_losses(history)"
      ],
      "execution_count": 12,
      "outputs": [
        {
          "output_type": "display_data",
          "data": {
            "image/png": "[encoded data removed]",
            "text/plain": [
              "<Figure size 432x288 with 1 Axes>"
            ]
          },
          "metadata": {
            "tags": [],
            "needs_background": "light"
          }
        }
      ]
    },
    {
      "cell_type": "markdown",
      "metadata": {
        "id": "hNYHfL1LOdT6"
      },
      "source": [
        "#Testing With Individual Images"
      ]
    },
    {
      "cell_type": "code",
      "metadata": {
        "id": "NQq-4ZorOgqt"
      },
      "source": [
        "test_dataset = ImageFolder(data_dir+'/test', transform=ToTensor())"
      ],
      "execution_count": 38,
      "outputs": []
    },
    {
      "cell_type": "code",
      "metadata": {
        "id": "hIwWBe5ZOimk"
      },
      "source": [
        "def predict_image(img, model):\r\n",
        "    # Convert to a batch of 1\r\n",
        "    xb = to_device(img.unsqueeze(0), device)\r\n",
        "    # Get predictions from model\r\n",
        "    yb = model(xb)\r\n",
        "    # Pick index with highest probability\r\n",
        "    _, preds  = torch.max(yb, dim=1)\r\n",
        "    # Retrieve the class label\r\n",
        "    return dataset.classes[preds[0].item()]"
      ],
      "execution_count": 39,
      "outputs": []
    },
    {
      "cell_type": "code",
      "metadata": {
        "colab": {
          "base_uri": "https://localhost:8080/",
          "height": 283
        },
        "id": "RIuBPm4_OmKX",
        "outputId": "bae6fd03-81cf-49e8-c4b1-7231ba58d730"
      },
      "source": [
        "img, label = test_dataset[0]\r\n",
        "plt.imshow(img.permute(1, 2, 0))\r\n",
        "print('Label:', dataset.classes[label], ', Predicted:', predict_image(img, model))"
      ],
      "execution_count": 40,
      "outputs": [
        {
          "output_type": "stream",
          "text": [
            "Label: airplane , Predicted: airplane\n"
          ],
          "name": "stdout"
        },
        {
          "output_type": "display_data",
          "data": {
            "image/png": "[encoded data removed]",
            "text/plain": [
              "<Figure size 432x288 with 1 Axes>"
            ]
          },
          "metadata": {
            "tags": [],
            "needs_background": "light"
          }
        }
      ]
    },
    {
      "cell_type": "markdown",
      "metadata": {
        "id": "SKvUJs1PTWl1"
      },
      "source": [
        "#Saving Weights"
      ]
    },
    {
      "cell_type": "code",
      "metadata": {
        "id": "t5EV-fNkTYlS"
      },
      "source": [
        "torch.save(model.state_dict(), 'cifar10-cnn.pth')"
      ],
      "execution_count": null,
      "outputs": []
    },
    {
      "cell_type": "code",
      "metadata": {
        "id": "2THvrrdsTasu"
      },
      "source": [
        ""
      ],
      "execution_count": null,
      "outputs": []
    }
  ]
}